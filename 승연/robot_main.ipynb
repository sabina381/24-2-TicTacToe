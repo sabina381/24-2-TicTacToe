{
 "cells": [
  {
   "cell_type": "code",
   "execution_count": 1,
   "metadata": {},
   "outputs": [],
   "source": [
    "import torch\n",
    "import torch.optim as optim\n",
    "import os\n",
    "import math"
   ]
  },
  {
   "cell_type": "code",
   "execution_count": 2,
   "metadata": {},
   "outputs": [
    {
     "name": "stdout",
     "output_type": "stream",
     "text": [
      "MPS 장치를 지원하도록 build가 되었는가? True\n",
      "MPS 장치가 사용 가능한가? True\n"
     ]
    }
   ],
   "source": [
    "print(f\"MPS 장치를 지원하도록 build가 되었는가? {torch.backends.mps.is_built()}\")\n",
    "print(f\"MPS 장치가 사용 가능한가? {torch.backends.mps.is_available()}\")"
   ]
  },
  {
   "cell_type": "code",
   "execution_count": 3,
   "metadata": {},
   "outputs": [],
   "source": [
    "os.chdir('/Users/seungyeonlee/Documents/GitHub/24-2-TicTacToe/승연')\n",
    "from config import *\n",
    "\n",
    "from enemy_agents import *\n",
    "from environment import *\n",
    "from evaluate import *\n",
    "from file_save_load import *\n",
    "from mcts import *\n",
    "from net import *\n",
    "from train_network import *\n",
    "from visualizing import *\n",
    "from connect_CNC import *"
   ]
  },
  {
   "cell_type": "code",
   "execution_count": 4,
   "metadata": {},
   "outputs": [
    {
     "name": "stdout",
     "output_type": "stream",
     "text": [
      "Create '/Users/seungyeonlee/Documents/GitHub/24-2-TicTacToe/승연/test_model_best.pkl'\n",
      "Communication Successfully started\n"
     ]
    }
   ],
   "source": [
    "env = Environment(STATE_SIZE, WIN_CONDITION)\n",
    "model = load_model(path=os.getcwd(), file=\"test_model_best\")\n",
    "agent = Mcts(model, temperature=0)\n",
    "\n",
    "alphazero_first = input(\"Is Alpha-Zero first?: (True/False)\")\n",
    "agent_turn = \"O\" if alphazero_first else \"X\"\n",
    "\n",
    "serial = Serial('/dev/cu.usbserial-110', alphazero_first)"
   ]
  },
  {
   "cell_type": "code",
   "execution_count": 5,
   "metadata": {},
   "outputs": [],
   "source": [
    "# import\n",
    "def make_state(raw_state):\n",
    "    my_actions = np.where(raw_state == 1)[0]\n",
    "    enemy_actions = np.where(raw_state == -1)[0]\n",
    "    my_state = np.zeros(STATE_SIZE)\n",
    "    my_state[my_actions] = 1\n",
    "    enemy_state = np.zeros(STATE_SIZE)\n",
    "    enemy_state[enemy_actions] = 1\n",
    "\n",
    "    state = State(my_state = my_state, enemy_state = enemy_state)\n",
    "\n",
    "    return state"
   ]
  },
  {
   "cell_type": "code",
   "execution_count": 15,
   "metadata": {},
   "outputs": [
    {
     "name": "stdout",
     "output_type": "stream",
     "text": [
      "Sent command: O\n",
      "Arduino Response: Setting O\n",
      "\n",
      "Sent command: 1\n",
      "Arduino Response: Done: drawCircle\n",
      "\n"
     ]
    },
    {
     "ename": "NameError",
     "evalue": "name 'image_to_state' is not defined",
     "output_type": "error",
     "traceback": [
      "\u001b[0;31m---------------------------------------------------------------------------\u001b[0m",
      "\u001b[0;31mNameError\u001b[0m                                 Traceback (most recent call last)",
      "\u001b[0;32m/var/folders/pz/1m8kjyh1283_znnjwmd3h7740000gn/T/ipykernel_56609/301356881.py\u001b[0m in \u001b[0;36m<module>\u001b[0;34m\u001b[0m\n\u001b[1;32m     21\u001b[0m         \u001b[0;32mif\u001b[0m \u001b[0;32mnot\u001b[0m \u001b[0mis_done\u001b[0m\u001b[0;34m:\u001b[0m\u001b[0;34m\u001b[0m\u001b[0;34m\u001b[0m\u001b[0m\n\u001b[1;32m     22\u001b[0m             \u001b[0;31m# camera_start(state)\u001b[0m\u001b[0;34m\u001b[0m\u001b[0;34m\u001b[0m\u001b[0m\n\u001b[0;32m---> 23\u001b[0;31m             \u001b[0mraw_state\u001b[0m \u001b[0;34m=\u001b[0m \u001b[0mimage_to_state\u001b[0m\u001b[0;34m(\u001b[0m\u001b[0mstate\u001b[0m\u001b[0;34m)\u001b[0m\u001b[0;34m\u001b[0m\u001b[0;34m\u001b[0m\u001b[0m\n\u001b[0m\u001b[1;32m     24\u001b[0m             \u001b[0mstate\u001b[0m \u001b[0;34m=\u001b[0m \u001b[0mmake_state\u001b[0m\u001b[0;34m(\u001b[0m\u001b[0mraw_state\u001b[0m\u001b[0;34m)\u001b[0m\u001b[0;34m\u001b[0m\u001b[0;34m\u001b[0m\u001b[0m\n\u001b[1;32m     25\u001b[0m             \u001b[0mis_done\u001b[0m \u001b[0;34m=\u001b[0m \u001b[0mstate\u001b[0m\u001b[0;34m.\u001b[0m\u001b[0mcheck_done\u001b[0m\u001b[0;34m(\u001b[0m\u001b[0;34m)\u001b[0m\u001b[0;34m\u001b[0m\u001b[0;34m\u001b[0m\u001b[0m\n",
      "\u001b[0;31mNameError\u001b[0m: name 'image_to_state' is not defined"
     ]
    }
   ],
   "source": [
    "# Connect robot \n",
    "# ser = connect_serial('/dev/cu.usbserial-110')\n",
    "# waiting_robot(ser)\n",
    "# draw_game_board(ser)\n",
    "\n",
    "state = State()\n",
    "is_done = False\n",
    "\n",
    "alphazero_first = input(\"Is Alpha-Zero first?: (True/False)\")\n",
    "agent_turn = \"O\" if alphazero_first else \"X\"\n",
    "\n",
    "if alphazero_first:\n",
    "    while not is_done:\n",
    "        # agent turn\n",
    "        action = agent.get_action(state)\n",
    "        action_command = f'{action}'\n",
    "        serial.send_to_robot(agent_turn, '1')\n",
    "        state, is_done, is_lose = env.step(state, action)\n",
    "\n",
    "        # human turn\n",
    "        if not is_done:\n",
    "            # camera_start(state)\n",
    "            raw_state = image_to_state(state)\n",
    "            state = make_state(raw_state)\n",
    "            is_done = state.check_done()\n",
    "\n",
    "else:\n",
    "    while not is_done:\n",
    "        # human turn\n",
    "        raw_state = image_to_state(state)\n",
    "        state = make_state(raw_state)\n",
    "        is_done = state.check_done()\n",
    "\n",
    "        # agent turn\n",
    "        if not is_done:\n",
    "            action = agent.get_action(state)\n",
    "            serial.send_to_robot(agent_turn, str(action))\n",
    "            state, is_done, is_lose = env.step(state, action)\n",
    "\n",
    "\n",
    "reward = env.get_first_reward(state)\n",
    "first_player = \"Alpha-Zero\" if alphazero_first else \"You\"\n",
    "second_player = \"You\" if alphazero_first else \"Alpha-Zero\"\n",
    "\n",
    "print(f\" << Game Over! {first_player if reward == 1 else second_player} Win!>>\")"
   ]
  },
  {
   "cell_type": "code",
   "execution_count": 10,
   "metadata": {},
   "outputs": [
    {
     "ename": "KeyboardInterrupt",
     "evalue": "",
     "output_type": "error",
     "traceback": [
      "\u001b[0;31m---------------------------------------------------------------------------\u001b[0m",
      "\u001b[0;31mKeyboardInterrupt\u001b[0m                         Traceback (most recent call last)",
      "\u001b[0;32m/var/folders/pz/1m8kjyh1283_znnjwmd3h7740000gn/T/ipykernel_56609/3689384129.py\u001b[0m in \u001b[0;36m<module>\u001b[0;34m\u001b[0m\n\u001b[0;32m----> 1\u001b[0;31m \u001b[0mserial\u001b[0m\u001b[0;34m.\u001b[0m\u001b[0mwaiting_robot\u001b[0m\u001b[0;34m(\u001b[0m\u001b[0;34m)\u001b[0m\u001b[0;34m\u001b[0m\u001b[0;34m\u001b[0m\u001b[0m\n\u001b[0m",
      "\u001b[0;32m~/Documents/GitHub/24-2-TicTacToe/승연/connect_CNC.py\u001b[0m in \u001b[0;36mwaiting_robot\u001b[0;34m(self)\u001b[0m\n\u001b[1;32m     87\u001b[0m         '''\n\u001b[1;32m     88\u001b[0m         \u001b[0;32mwhile\u001b[0m \u001b[0;32mTrue\u001b[0m\u001b[0;34m:\u001b[0m\u001b[0;34m\u001b[0m\u001b[0;34m\u001b[0m\u001b[0m\n\u001b[0;32m---> 89\u001b[0;31m             \u001b[0;32mif\u001b[0m \u001b[0mself\u001b[0m\u001b[0;34m.\u001b[0m\u001b[0mser\u001b[0m\u001b[0;34m.\u001b[0m\u001b[0min_waiting\u001b[0m \u001b[0;34m>\u001b[0m \u001b[0;36m0\u001b[0m\u001b[0;34m:\u001b[0m  \u001b[0;31m# 수신된 데이터가 있으면\u001b[0m\u001b[0;34m\u001b[0m\u001b[0;34m\u001b[0m\u001b[0m\n\u001b[0m\u001b[1;32m     90\u001b[0m                 \u001b[0mresponse\u001b[0m \u001b[0;34m=\u001b[0m \u001b[0mself\u001b[0m\u001b[0;34m.\u001b[0m\u001b[0mser\u001b[0m\u001b[0;34m.\u001b[0m\u001b[0mreadline\u001b[0m\u001b[0;34m(\u001b[0m\u001b[0;34m)\u001b[0m\u001b[0;34m.\u001b[0m\u001b[0mdecode\u001b[0m\u001b[0;34m(\u001b[0m\u001b[0;34m)\u001b[0m  \u001b[0;31m# 데이터 읽기\u001b[0m\u001b[0;34m\u001b[0m\u001b[0;34m\u001b[0m\u001b[0m\n\u001b[1;32m     91\u001b[0m                 \u001b[0mprint\u001b[0m\u001b[0;34m(\u001b[0m\u001b[0;34mf\"Arduino Response: {response}\"\u001b[0m\u001b[0;34m)\u001b[0m\u001b[0;34m\u001b[0m\u001b[0;34m\u001b[0m\u001b[0m\n",
      "\u001b[0;32m~/opt/anaconda3/lib/python3.9/site-packages/serial/serialposix.py\u001b[0m in \u001b[0;36min_waiting\u001b[0;34m(self)\u001b[0m\n\u001b[1;32m    547\u001b[0m         \u001b[0;34m\"\"\"Return the number of bytes currently in the input buffer.\"\"\"\u001b[0m\u001b[0;34m\u001b[0m\u001b[0;34m\u001b[0m\u001b[0m\n\u001b[1;32m    548\u001b[0m         \u001b[0;31m#~ s = fcntl.ioctl(self.fd, termios.FIONREAD, TIOCM_zero_str)\u001b[0m\u001b[0;34m\u001b[0m\u001b[0;34m\u001b[0m\u001b[0m\n\u001b[0;32m--> 549\u001b[0;31m         \u001b[0ms\u001b[0m \u001b[0;34m=\u001b[0m \u001b[0mfcntl\u001b[0m\u001b[0;34m.\u001b[0m\u001b[0mioctl\u001b[0m\u001b[0;34m(\u001b[0m\u001b[0mself\u001b[0m\u001b[0;34m.\u001b[0m\u001b[0mfd\u001b[0m\u001b[0;34m,\u001b[0m \u001b[0mTIOCINQ\u001b[0m\u001b[0;34m,\u001b[0m \u001b[0mTIOCM_zero_str\u001b[0m\u001b[0;34m)\u001b[0m\u001b[0;34m\u001b[0m\u001b[0;34m\u001b[0m\u001b[0m\n\u001b[0m\u001b[1;32m    550\u001b[0m         \u001b[0;32mreturn\u001b[0m \u001b[0mstruct\u001b[0m\u001b[0;34m.\u001b[0m\u001b[0munpack\u001b[0m\u001b[0;34m(\u001b[0m\u001b[0;34m'I'\u001b[0m\u001b[0;34m,\u001b[0m \u001b[0ms\u001b[0m\u001b[0;34m)\u001b[0m\u001b[0;34m[\u001b[0m\u001b[0;36m0\u001b[0m\u001b[0;34m]\u001b[0m\u001b[0;34m\u001b[0m\u001b[0;34m\u001b[0m\u001b[0m\n\u001b[1;32m    551\u001b[0m \u001b[0;34m\u001b[0m\u001b[0m\n",
      "\u001b[0;31mKeyboardInterrupt\u001b[0m: "
     ]
    }
   ],
   "source": [
    "serial.waiting_robot()"
   ]
  },
  {
   "cell_type": "code",
   "execution_count": 12,
   "metadata": {},
   "outputs": [
    {
     "name": "stdout",
     "output_type": "stream",
     "text": [
      "Sent command: O\n",
      "Arduino Response: Setting O\n",
      "\n",
      "Sent command: 1\n",
      "Arduino Response: Done: drawCircle\n",
      "\n"
     ]
    }
   ],
   "source": [
    "serial.send_to_robot('O', '1')"
   ]
  },
  {
   "cell_type": "code",
   "execution_count": null,
   "metadata": {},
   "outputs": [],
   "source": []
  }
 ],
 "metadata": {
  "kernelspec": {
   "display_name": "Python 3.9.13 ('base')",
   "language": "python",
   "name": "python3"
  },
  "language_info": {
   "codemirror_mode": {
    "name": "ipython",
    "version": 3
   },
   "file_extension": ".py",
   "mimetype": "text/x-python",
   "name": "python",
   "nbconvert_exporter": "python",
   "pygments_lexer": "ipython3",
   "version": "3.9.13"
  },
  "orig_nbformat": 4,
  "vscode": {
   "interpreter": {
    "hash": "80f3ce62248fa450f65fa83724ba9cb1496b6411704937f1b6e1f2130379b287"
   }
  }
 },
 "nbformat": 4,
 "nbformat_minor": 2
}
